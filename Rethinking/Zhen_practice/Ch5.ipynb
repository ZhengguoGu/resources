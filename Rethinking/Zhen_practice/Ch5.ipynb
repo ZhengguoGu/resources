{
 "cells": [
  {
   "cell_type": "code",
   "execution_count": 8,
   "metadata": {},
   "outputs": [],
   "source": [
    "import numpy as np\n",
    "import pandas as pd\n",
    "import pymc3 as pm\n",
    "import arviz as az  #ArviZ: Exploratory analysis of Bayesian models\n",
    "import matplotlib.pyplot as plt"
   ]
  },
  {
   "cell_type": "markdown",
   "metadata": {},
   "source": [
    "### 5.1. Spurious association"
   ]
  },
  {
   "cell_type": "code",
   "execution_count": 5,
   "metadata": {},
   "outputs": [],
   "source": [
    "df_divorce = pd.read_csv('../Data/WaffleDivorce.csv', sep=';')"
   ]
  },
  {
   "cell_type": "code",
   "execution_count": 7,
   "metadata": {},
   "outputs": [
    {
     "data": {
      "text/html": [
       "<div>\n",
       "<style scoped>\n",
       "    .dataframe tbody tr th:only-of-type {\n",
       "        vertical-align: middle;\n",
       "    }\n",
       "\n",
       "    .dataframe tbody tr th {\n",
       "        vertical-align: top;\n",
       "    }\n",
       "\n",
       "    .dataframe thead th {\n",
       "        text-align: right;\n",
       "    }\n",
       "</style>\n",
       "<table border=\"1\" class=\"dataframe\">\n",
       "  <thead>\n",
       "    <tr style=\"text-align: right;\">\n",
       "      <th></th>\n",
       "      <th>Location</th>\n",
       "      <th>Loc</th>\n",
       "      <th>Population</th>\n",
       "      <th>MedianAgeMarriage</th>\n",
       "      <th>Marriage</th>\n",
       "      <th>Marriage SE</th>\n",
       "      <th>Divorce</th>\n",
       "      <th>Divorce SE</th>\n",
       "      <th>WaffleHouses</th>\n",
       "      <th>South</th>\n",
       "      <th>Slaves1860</th>\n",
       "      <th>Population1860</th>\n",
       "      <th>PropSlaves1860</th>\n",
       "    </tr>\n",
       "  </thead>\n",
       "  <tbody>\n",
       "    <tr>\n",
       "      <th>0</th>\n",
       "      <td>Alabama</td>\n",
       "      <td>AL</td>\n",
       "      <td>4.78</td>\n",
       "      <td>25.3</td>\n",
       "      <td>20.2</td>\n",
       "      <td>1.27</td>\n",
       "      <td>12.7</td>\n",
       "      <td>0.79</td>\n",
       "      <td>128</td>\n",
       "      <td>1</td>\n",
       "      <td>435080</td>\n",
       "      <td>964201</td>\n",
       "      <td>0.45</td>\n",
       "    </tr>\n",
       "    <tr>\n",
       "      <th>1</th>\n",
       "      <td>Alaska</td>\n",
       "      <td>AK</td>\n",
       "      <td>0.71</td>\n",
       "      <td>25.2</td>\n",
       "      <td>26.0</td>\n",
       "      <td>2.93</td>\n",
       "      <td>12.5</td>\n",
       "      <td>2.05</td>\n",
       "      <td>0</td>\n",
       "      <td>0</td>\n",
       "      <td>0</td>\n",
       "      <td>0</td>\n",
       "      <td>0.00</td>\n",
       "    </tr>\n",
       "    <tr>\n",
       "      <th>2</th>\n",
       "      <td>Arizona</td>\n",
       "      <td>AZ</td>\n",
       "      <td>6.33</td>\n",
       "      <td>25.8</td>\n",
       "      <td>20.3</td>\n",
       "      <td>0.98</td>\n",
       "      <td>10.8</td>\n",
       "      <td>0.74</td>\n",
       "      <td>18</td>\n",
       "      <td>0</td>\n",
       "      <td>0</td>\n",
       "      <td>0</td>\n",
       "      <td>0.00</td>\n",
       "    </tr>\n",
       "    <tr>\n",
       "      <th>3</th>\n",
       "      <td>Arkansas</td>\n",
       "      <td>AR</td>\n",
       "      <td>2.92</td>\n",
       "      <td>24.3</td>\n",
       "      <td>26.4</td>\n",
       "      <td>1.70</td>\n",
       "      <td>13.5</td>\n",
       "      <td>1.22</td>\n",
       "      <td>41</td>\n",
       "      <td>1</td>\n",
       "      <td>111115</td>\n",
       "      <td>435450</td>\n",
       "      <td>0.26</td>\n",
       "    </tr>\n",
       "    <tr>\n",
       "      <th>4</th>\n",
       "      <td>California</td>\n",
       "      <td>CA</td>\n",
       "      <td>37.25</td>\n",
       "      <td>26.8</td>\n",
       "      <td>19.1</td>\n",
       "      <td>0.39</td>\n",
       "      <td>8.0</td>\n",
       "      <td>0.24</td>\n",
       "      <td>0</td>\n",
       "      <td>0</td>\n",
       "      <td>0</td>\n",
       "      <td>379994</td>\n",
       "      <td>0.00</td>\n",
       "    </tr>\n",
       "  </tbody>\n",
       "</table>\n",
       "</div>"
      ],
      "text/plain": [
       "     Location Loc  Population  MedianAgeMarriage  Marriage  Marriage SE  \\\n",
       "0     Alabama  AL        4.78               25.3      20.2         1.27   \n",
       "1      Alaska  AK        0.71               25.2      26.0         2.93   \n",
       "2     Arizona  AZ        6.33               25.8      20.3         0.98   \n",
       "3    Arkansas  AR        2.92               24.3      26.4         1.70   \n",
       "4  California  CA       37.25               26.8      19.1         0.39   \n",
       "\n",
       "   Divorce  Divorce SE  WaffleHouses  South  Slaves1860  Population1860  \\\n",
       "0     12.7        0.79           128      1      435080          964201   \n",
       "1     12.5        2.05             0      0           0               0   \n",
       "2     10.8        0.74            18      0           0               0   \n",
       "3     13.5        1.22            41      1      111115          435450   \n",
       "4      8.0        0.24             0      0           0          379994   \n",
       "\n",
       "   PropSlaves1860  \n",
       "0            0.45  \n",
       "1            0.00  \n",
       "2            0.00  \n",
       "3            0.26  \n",
       "4            0.00  "
      ]
     },
     "execution_count": 7,
     "metadata": {},
     "output_type": "execute_result"
    }
   ],
   "source": [
    "df_divorce.head()"
   ]
  },
  {
   "cell_type": "code",
   "execution_count": 9,
   "metadata": {
    "scrolled": true
   },
   "outputs": [
    {
     "name": "stderr",
     "output_type": "stream",
     "text": [
      "Auto-assigning NUTS sampler...\n",
      "Initializing NUTS using jitter+adapt_diag...\n",
      "Multiprocess sampling (4 chains in 4 jobs)\n",
      "NUTS: [sigma, beta, alpha]\n",
      "Sampling 4 chains, 0 divergences: 100%|██████████| 10000/10000 [00:16<00:00, 606.69draws/s]\n"
     ]
    }
   ],
   "source": [
    "with pm.Model() as divorce_m:\n",
    "    \n",
    "    #priors\n",
    "    alpha = pm.Normal('alpha', mu=10, sigma=10)\n",
    "    beta = pm.Normal('beta', mu=0, sigma=1)\n",
    "    sigma = pm.Uniform('sigma', lower=0, upper=10)\n",
    "    \n",
    "    mu = alpha + beta * df_divorce.MedianAgeMarriage\n",
    "    \n",
    "    #likelihood\n",
    "    likelihood = pm.Normal('divoice', mu=mu, sigma=sigma, observed=df_divorce.Divorce)\n",
    "    \n",
    "    #inference\n",
    "    trace = pm.sample(2000)"
   ]
  },
  {
   "cell_type": "markdown",
   "metadata": {},
   "source": [
    "##### notice that az.summary() and pm.summary() are the same"
   ]
  },
  {
   "cell_type": "code",
   "execution_count": 12,
   "metadata": {},
   "outputs": [
    {
     "data": {
      "text/html": [
       "<div>\n",
       "<style scoped>\n",
       "    .dataframe tbody tr th:only-of-type {\n",
       "        vertical-align: middle;\n",
       "    }\n",
       "\n",
       "    .dataframe tbody tr th {\n",
       "        vertical-align: top;\n",
       "    }\n",
       "\n",
       "    .dataframe thead th {\n",
       "        text-align: right;\n",
       "    }\n",
       "</style>\n",
       "<table border=\"1\" class=\"dataframe\">\n",
       "  <thead>\n",
       "    <tr style=\"text-align: right;\">\n",
       "      <th></th>\n",
       "      <th>mean</th>\n",
       "      <th>sd</th>\n",
       "      <th>hpd_3%</th>\n",
       "      <th>hpd_97%</th>\n",
       "      <th>mcse_mean</th>\n",
       "      <th>mcse_sd</th>\n",
       "      <th>ess_mean</th>\n",
       "      <th>ess_sd</th>\n",
       "      <th>ess_bulk</th>\n",
       "      <th>ess_tail</th>\n",
       "      <th>r_hat</th>\n",
       "    </tr>\n",
       "  </thead>\n",
       "  <tbody>\n",
       "    <tr>\n",
       "      <th>alpha</th>\n",
       "      <td>28.162</td>\n",
       "      <td>4.205</td>\n",
       "      <td>19.932</td>\n",
       "      <td>35.789</td>\n",
       "      <td>0.093</td>\n",
       "      <td>0.066</td>\n",
       "      <td>2057.0</td>\n",
       "      <td>2037.0</td>\n",
       "      <td>2063.0</td>\n",
       "      <td>2402.0</td>\n",
       "      <td>1.0</td>\n",
       "    </tr>\n",
       "    <tr>\n",
       "      <th>beta</th>\n",
       "      <td>-0.709</td>\n",
       "      <td>0.161</td>\n",
       "      <td>-1.009</td>\n",
       "      <td>-0.401</td>\n",
       "      <td>0.004</td>\n",
       "      <td>0.003</td>\n",
       "      <td>2055.0</td>\n",
       "      <td>2028.0</td>\n",
       "      <td>2061.0</td>\n",
       "      <td>2472.0</td>\n",
       "      <td>1.0</td>\n",
       "    </tr>\n",
       "    <tr>\n",
       "      <th>sigma</th>\n",
       "      <td>1.530</td>\n",
       "      <td>0.161</td>\n",
       "      <td>1.247</td>\n",
       "      <td>1.835</td>\n",
       "      <td>0.003</td>\n",
       "      <td>0.002</td>\n",
       "      <td>3045.0</td>\n",
       "      <td>2988.0</td>\n",
       "      <td>3118.0</td>\n",
       "      <td>3280.0</td>\n",
       "      <td>1.0</td>\n",
       "    </tr>\n",
       "  </tbody>\n",
       "</table>\n",
       "</div>"
      ],
      "text/plain": [
       "         mean     sd  hpd_3%  hpd_97%  mcse_mean  mcse_sd  ess_mean  ess_sd  \\\n",
       "alpha  28.162  4.205  19.932   35.789      0.093    0.066    2057.0  2037.0   \n",
       "beta   -0.709  0.161  -1.009   -0.401      0.004    0.003    2055.0  2028.0   \n",
       "sigma   1.530  0.161   1.247    1.835      0.003    0.002    3045.0  2988.0   \n",
       "\n",
       "       ess_bulk  ess_tail  r_hat  \n",
       "alpha    2063.0    2402.0    1.0  \n",
       "beta     2061.0    2472.0    1.0  \n",
       "sigma    3118.0    3280.0    1.0  "
      ]
     },
     "execution_count": 12,
     "metadata": {},
     "output_type": "execute_result"
    }
   ],
   "source": [
    "az.summary(trace)"
   ]
  },
  {
   "cell_type": "code",
   "execution_count": 13,
   "metadata": {},
   "outputs": [
    {
     "data": {
      "text/html": [
       "<div>\n",
       "<style scoped>\n",
       "    .dataframe tbody tr th:only-of-type {\n",
       "        vertical-align: middle;\n",
       "    }\n",
       "\n",
       "    .dataframe tbody tr th {\n",
       "        vertical-align: top;\n",
       "    }\n",
       "\n",
       "    .dataframe thead th {\n",
       "        text-align: right;\n",
       "    }\n",
       "</style>\n",
       "<table border=\"1\" class=\"dataframe\">\n",
       "  <thead>\n",
       "    <tr style=\"text-align: right;\">\n",
       "      <th></th>\n",
       "      <th>mean</th>\n",
       "      <th>sd</th>\n",
       "      <th>hpd_3%</th>\n",
       "      <th>hpd_97%</th>\n",
       "      <th>mcse_mean</th>\n",
       "      <th>mcse_sd</th>\n",
       "      <th>ess_mean</th>\n",
       "      <th>ess_sd</th>\n",
       "      <th>ess_bulk</th>\n",
       "      <th>ess_tail</th>\n",
       "      <th>r_hat</th>\n",
       "    </tr>\n",
       "  </thead>\n",
       "  <tbody>\n",
       "    <tr>\n",
       "      <th>alpha</th>\n",
       "      <td>28.162</td>\n",
       "      <td>4.205</td>\n",
       "      <td>19.932</td>\n",
       "      <td>35.789</td>\n",
       "      <td>0.093</td>\n",
       "      <td>0.066</td>\n",
       "      <td>2057.0</td>\n",
       "      <td>2037.0</td>\n",
       "      <td>2063.0</td>\n",
       "      <td>2402.0</td>\n",
       "      <td>1.0</td>\n",
       "    </tr>\n",
       "    <tr>\n",
       "      <th>beta</th>\n",
       "      <td>-0.709</td>\n",
       "      <td>0.161</td>\n",
       "      <td>-1.009</td>\n",
       "      <td>-0.401</td>\n",
       "      <td>0.004</td>\n",
       "      <td>0.003</td>\n",
       "      <td>2055.0</td>\n",
       "      <td>2028.0</td>\n",
       "      <td>2061.0</td>\n",
       "      <td>2472.0</td>\n",
       "      <td>1.0</td>\n",
       "    </tr>\n",
       "    <tr>\n",
       "      <th>sigma</th>\n",
       "      <td>1.530</td>\n",
       "      <td>0.161</td>\n",
       "      <td>1.247</td>\n",
       "      <td>1.835</td>\n",
       "      <td>0.003</td>\n",
       "      <td>0.002</td>\n",
       "      <td>3045.0</td>\n",
       "      <td>2988.0</td>\n",
       "      <td>3118.0</td>\n",
       "      <td>3280.0</td>\n",
       "      <td>1.0</td>\n",
       "    </tr>\n",
       "  </tbody>\n",
       "</table>\n",
       "</div>"
      ],
      "text/plain": [
       "         mean     sd  hpd_3%  hpd_97%  mcse_mean  mcse_sd  ess_mean  ess_sd  \\\n",
       "alpha  28.162  4.205  19.932   35.789      0.093    0.066    2057.0  2037.0   \n",
       "beta   -0.709  0.161  -1.009   -0.401      0.004    0.003    2055.0  2028.0   \n",
       "sigma   1.530  0.161   1.247    1.835      0.003    0.002    3045.0  2988.0   \n",
       "\n",
       "       ess_bulk  ess_tail  r_hat  \n",
       "alpha    2063.0    2402.0    1.0  \n",
       "beta     2061.0    2472.0    1.0  \n",
       "sigma    3118.0    3280.0    1.0  "
      ]
     },
     "execution_count": 13,
     "metadata": {},
     "output_type": "execute_result"
    }
   ],
   "source": [
    "pm.summary(trace)"
   ]
  },
  {
   "cell_type": "markdown",
   "metadata": {},
   "source": [
    "##### standardize the predictors"
   ]
  },
  {
   "cell_type": "code",
   "execution_count": 41,
   "metadata": {
    "scrolled": true
   },
   "outputs": [],
   "source": [
    "df_divorce = df_divorce.assign(MedianAgeMarriage_stand = lambda x: (df_divorce.MedianAgeMarriage \\\n",
    "                                                     - df_divorce.MedianAgeMarriage.mean())/df_divorce.MedianAgeMarriage.std(),\n",
    "                              Marriage_stand = lambda x: (df_divorce.Marriage - df_divorce.Marriage.mean())/ \\\n",
    "                              df_divorce.Marriage.std())"
   ]
  },
  {
   "cell_type": "code",
   "execution_count": 40,
   "metadata": {},
   "outputs": [
    {
     "data": {
      "text/html": [
       "<div>\n",
       "<style scoped>\n",
       "    .dataframe tbody tr th:only-of-type {\n",
       "        vertical-align: middle;\n",
       "    }\n",
       "\n",
       "    .dataframe tbody tr th {\n",
       "        vertical-align: top;\n",
       "    }\n",
       "\n",
       "    .dataframe thead th {\n",
       "        text-align: right;\n",
       "    }\n",
       "</style>\n",
       "<table border=\"1\" class=\"dataframe\">\n",
       "  <thead>\n",
       "    <tr style=\"text-align: right;\">\n",
       "      <th></th>\n",
       "      <th>Location</th>\n",
       "      <th>Loc</th>\n",
       "      <th>Population</th>\n",
       "      <th>MedianAgeMarriage</th>\n",
       "      <th>Marriage</th>\n",
       "      <th>Marriage SE</th>\n",
       "      <th>Divorce</th>\n",
       "      <th>Divorce SE</th>\n",
       "      <th>WaffleHouses</th>\n",
       "      <th>South</th>\n",
       "      <th>Slaves1860</th>\n",
       "      <th>Population1860</th>\n",
       "      <th>PropSlaves1860</th>\n",
       "      <th>MedianAgeMarriage_stand</th>\n",
       "      <th>inplace</th>\n",
       "      <th>Marriage_stand</th>\n",
       "    </tr>\n",
       "  </thead>\n",
       "  <tbody>\n",
       "    <tr>\n",
       "      <th>0</th>\n",
       "      <td>Alabama</td>\n",
       "      <td>AL</td>\n",
       "      <td>4.78</td>\n",
       "      <td>25.3</td>\n",
       "      <td>20.2</td>\n",
       "      <td>1.27</td>\n",
       "      <td>12.7</td>\n",
       "      <td>0.79</td>\n",
       "      <td>128</td>\n",
       "      <td>1</td>\n",
       "      <td>435080</td>\n",
       "      <td>964201</td>\n",
       "      <td>0.45</td>\n",
       "      <td>-0.606290</td>\n",
       "      <td>True</td>\n",
       "      <td>0.022644</td>\n",
       "    </tr>\n",
       "    <tr>\n",
       "      <th>1</th>\n",
       "      <td>Alaska</td>\n",
       "      <td>AK</td>\n",
       "      <td>0.71</td>\n",
       "      <td>25.2</td>\n",
       "      <td>26.0</td>\n",
       "      <td>2.93</td>\n",
       "      <td>12.5</td>\n",
       "      <td>2.05</td>\n",
       "      <td>0</td>\n",
       "      <td>0</td>\n",
       "      <td>0</td>\n",
       "      <td>0</td>\n",
       "      <td>0.00</td>\n",
       "      <td>-0.686699</td>\n",
       "      <td>True</td>\n",
       "      <td>1.549802</td>\n",
       "    </tr>\n",
       "    <tr>\n",
       "      <th>2</th>\n",
       "      <td>Arizona</td>\n",
       "      <td>AZ</td>\n",
       "      <td>6.33</td>\n",
       "      <td>25.8</td>\n",
       "      <td>20.3</td>\n",
       "      <td>0.98</td>\n",
       "      <td>10.8</td>\n",
       "      <td>0.74</td>\n",
       "      <td>18</td>\n",
       "      <td>0</td>\n",
       "      <td>0</td>\n",
       "      <td>0</td>\n",
       "      <td>0.00</td>\n",
       "      <td>-0.204241</td>\n",
       "      <td>True</td>\n",
       "      <td>0.048974</td>\n",
       "    </tr>\n",
       "    <tr>\n",
       "      <th>3</th>\n",
       "      <td>Arkansas</td>\n",
       "      <td>AR</td>\n",
       "      <td>2.92</td>\n",
       "      <td>24.3</td>\n",
       "      <td>26.4</td>\n",
       "      <td>1.70</td>\n",
       "      <td>13.5</td>\n",
       "      <td>1.22</td>\n",
       "      <td>41</td>\n",
       "      <td>1</td>\n",
       "      <td>111115</td>\n",
       "      <td>435450</td>\n",
       "      <td>0.26</td>\n",
       "      <td>-1.410387</td>\n",
       "      <td>True</td>\n",
       "      <td>1.655123</td>\n",
       "    </tr>\n",
       "    <tr>\n",
       "      <th>4</th>\n",
       "      <td>California</td>\n",
       "      <td>CA</td>\n",
       "      <td>37.25</td>\n",
       "      <td>26.8</td>\n",
       "      <td>19.1</td>\n",
       "      <td>0.39</td>\n",
       "      <td>8.0</td>\n",
       "      <td>0.24</td>\n",
       "      <td>0</td>\n",
       "      <td>0</td>\n",
       "      <td>0</td>\n",
       "      <td>379994</td>\n",
       "      <td>0.00</td>\n",
       "      <td>0.599857</td>\n",
       "      <td>True</td>\n",
       "      <td>-0.266989</td>\n",
       "    </tr>\n",
       "  </tbody>\n",
       "</table>\n",
       "</div>"
      ],
      "text/plain": [
       "     Location Loc  Population  MedianAgeMarriage  Marriage  Marriage SE  \\\n",
       "0     Alabama  AL        4.78               25.3      20.2         1.27   \n",
       "1      Alaska  AK        0.71               25.2      26.0         2.93   \n",
       "2     Arizona  AZ        6.33               25.8      20.3         0.98   \n",
       "3    Arkansas  AR        2.92               24.3      26.4         1.70   \n",
       "4  California  CA       37.25               26.8      19.1         0.39   \n",
       "\n",
       "   Divorce  Divorce SE  WaffleHouses  South  Slaves1860  Population1860  \\\n",
       "0     12.7        0.79           128      1      435080          964201   \n",
       "1     12.5        2.05             0      0           0               0   \n",
       "2     10.8        0.74            18      0           0               0   \n",
       "3     13.5        1.22            41      1      111115          435450   \n",
       "4      8.0        0.24             0      0           0          379994   \n",
       "\n",
       "   PropSlaves1860  MedianAgeMarriage_stand  inplace  Marriage_stand  \n",
       "0            0.45                -0.606290     True        0.022644  \n",
       "1            0.00                -0.686699     True        1.549802  \n",
       "2            0.00                -0.204241     True        0.048974  \n",
       "3            0.26                -1.410387     True        1.655123  \n",
       "4            0.00                 0.599857     True       -0.266989  "
      ]
     },
     "execution_count": 40,
     "metadata": {},
     "output_type": "execute_result"
    }
   ],
   "source": [
    "df_divorce.head()"
   ]
  },
  {
   "cell_type": "code",
   "execution_count": 22,
   "metadata": {},
   "outputs": [
    {
     "name": "stderr",
     "output_type": "stream",
     "text": [
      "Auto-assigning NUTS sampler...\n",
      "Initializing NUTS using jitter+adapt_diag...\n",
      "Multiprocess sampling (4 chains in 4 jobs)\n",
      "NUTS: [sigma, beta, alpha]\n",
      "Sampling 4 chains, 0 divergences: 100%|██████████| 10000/10000 [00:04<00:00, 2461.76draws/s]\n"
     ]
    }
   ],
   "source": [
    "with pm.Model() as divorce_m_std:\n",
    "    \n",
    "    #priors\n",
    "    alpha = pm.Normal('alpha', mu=10, sigma=10)\n",
    "    beta = pm.Normal('beta', mu=0, sigma=1)\n",
    "    sigma = pm.Uniform('sigma', lower=0, upper=10)\n",
    "    \n",
    "    mu = alpha + beta * df_divorce.MedianAgeMarriage_stand\n",
    "    \n",
    "    #likelihood\n",
    "    likelihood = pm.Normal('divoice', mu=mu, sigma=sigma, observed=df_divorce.Divorce)\n",
    "    \n",
    "    #inference\n",
    "    trace = pm.sample(2000)"
   ]
  },
  {
   "cell_type": "code",
   "execution_count": 23,
   "metadata": {},
   "outputs": [
    {
     "data": {
      "text/html": [
       "<div>\n",
       "<style scoped>\n",
       "    .dataframe tbody tr th:only-of-type {\n",
       "        vertical-align: middle;\n",
       "    }\n",
       "\n",
       "    .dataframe tbody tr th {\n",
       "        vertical-align: top;\n",
       "    }\n",
       "\n",
       "    .dataframe thead th {\n",
       "        text-align: right;\n",
       "    }\n",
       "</style>\n",
       "<table border=\"1\" class=\"dataframe\">\n",
       "  <thead>\n",
       "    <tr style=\"text-align: right;\">\n",
       "      <th></th>\n",
       "      <th>mean</th>\n",
       "      <th>sd</th>\n",
       "      <th>hpd_3%</th>\n",
       "      <th>hpd_97%</th>\n",
       "      <th>mcse_mean</th>\n",
       "      <th>mcse_sd</th>\n",
       "      <th>ess_mean</th>\n",
       "      <th>ess_sd</th>\n",
       "      <th>ess_bulk</th>\n",
       "      <th>ess_tail</th>\n",
       "      <th>r_hat</th>\n",
       "    </tr>\n",
       "  </thead>\n",
       "  <tbody>\n",
       "    <tr>\n",
       "      <th>alpha</th>\n",
       "      <td>9.691</td>\n",
       "      <td>0.215</td>\n",
       "      <td>9.275</td>\n",
       "      <td>10.087</td>\n",
       "      <td>0.002</td>\n",
       "      <td>0.002</td>\n",
       "      <td>9147.0</td>\n",
       "      <td>9121.0</td>\n",
       "      <td>9176.0</td>\n",
       "      <td>6022.0</td>\n",
       "      <td>1.0</td>\n",
       "    </tr>\n",
       "    <tr>\n",
       "      <th>beta</th>\n",
       "      <td>-1.035</td>\n",
       "      <td>0.218</td>\n",
       "      <td>-1.432</td>\n",
       "      <td>-0.630</td>\n",
       "      <td>0.002</td>\n",
       "      <td>0.002</td>\n",
       "      <td>7973.0</td>\n",
       "      <td>7973.0</td>\n",
       "      <td>7949.0</td>\n",
       "      <td>5428.0</td>\n",
       "      <td>1.0</td>\n",
       "    </tr>\n",
       "    <tr>\n",
       "      <th>sigma</th>\n",
       "      <td>1.518</td>\n",
       "      <td>0.159</td>\n",
       "      <td>1.231</td>\n",
       "      <td>1.816</td>\n",
       "      <td>0.002</td>\n",
       "      <td>0.001</td>\n",
       "      <td>8942.0</td>\n",
       "      <td>8586.0</td>\n",
       "      <td>9313.0</td>\n",
       "      <td>6045.0</td>\n",
       "      <td>1.0</td>\n",
       "    </tr>\n",
       "  </tbody>\n",
       "</table>\n",
       "</div>"
      ],
      "text/plain": [
       "        mean     sd  hpd_3%  hpd_97%  mcse_mean  mcse_sd  ess_mean  ess_sd  \\\n",
       "alpha  9.691  0.215   9.275   10.087      0.002    0.002    9147.0  9121.0   \n",
       "beta  -1.035  0.218  -1.432   -0.630      0.002    0.002    7973.0  7973.0   \n",
       "sigma  1.518  0.159   1.231    1.816      0.002    0.001    8942.0  8586.0   \n",
       "\n",
       "       ess_bulk  ess_tail  r_hat  \n",
       "alpha    9176.0    6022.0    1.0  \n",
       "beta     7949.0    5428.0    1.0  \n",
       "sigma    9313.0    6045.0    1.0  "
      ]
     },
     "execution_count": 23,
     "metadata": {},
     "output_type": "execute_result"
    }
   ],
   "source": [
    "pm.summary(trace)"
   ]
  },
  {
   "cell_type": "code",
   "execution_count": 24,
   "metadata": {},
   "outputs": [],
   "source": [
    "summary = pm.summary(trace)"
   ]
  },
  {
   "cell_type": "code",
   "execution_count": 27,
   "metadata": {},
   "outputs": [
    {
     "data": {
      "text/plain": [
       "9.691"
      ]
     },
     "execution_count": 27,
     "metadata": {},
     "output_type": "execute_result"
    }
   ],
   "source": [
    "summary.loc['alpha', 'mean']"
   ]
  },
  {
   "cell_type": "code",
   "execution_count": 29,
   "metadata": {},
   "outputs": [
    {
     "data": {
      "text/plain": [
       "[<matplotlib.lines.Line2D at 0x12ce89730>]"
      ]
     },
     "execution_count": 29,
     "metadata": {},
     "output_type": "execute_result"
    },
    {
     "data": {
      "image/png": "[encoded data removed]",
      "text/plain": [
       "<Figure size 432x288 with 1 Axes>"
      ]
     },
     "metadata": {
      "needs_background": "light"
     },
     "output_type": "display_data"
    }
   ],
   "source": [
    "plt.scatter(df_divorce.MedianAgeMarriage_stand, df_divorce.Divorce)\n",
    "plt.plot(df_divorce.MedianAgeMarriage_stand, summary.loc['alpha', 'mean'] \\\n",
    "         + summary.loc['beta', 'mean'] * df_divorce.MedianAgeMarriage_stand, color='red')"
   ]
  },
  {
   "cell_type": "code",
   "execution_count": 31,
   "metadata": {},
   "outputs": [],
   "source": [
    "M_min = df_divorce.MedianAgeMarriage_stand.min()\n",
    "M_max = df_divorce.MedianAgeMarriage_stand.max()"
   ]
  },
  {
   "cell_type": "markdown",
   "metadata": {},
   "source": [
    "##### code 5.2"
   ]
  },
  {
   "cell_type": "code",
   "execution_count": 32,
   "metadata": {},
   "outputs": [],
   "source": [
    "MedianAge_input = np.linspace(M_min, M_max, num=100)"
   ]
  },
  {
   "cell_type": "code",
   "execution_count": 33,
   "metadata": {},
   "outputs": [],
   "source": [
    "posterior = pm.trace_to_dataframe(trace, chains=1) #let's just use the first chain"
   ]
  },
  {
   "cell_type": "code",
   "execution_count": 35,
   "metadata": {
    "scrolled": true
   },
   "outputs": [
    {
     "data": {
      "text/plain": [
       "2000"
      ]
     },
     "execution_count": 35,
     "metadata": {},
     "output_type": "execute_result"
    }
   ],
   "source": [
    "posterior.shape"
   ]
  },
  {
   "cell_type": "code",
   "execution_count": 37,
   "metadata": {},
   "outputs": [],
   "source": [
    "mu_pred = np.zeros((len(MedianAge_input), posterior.shape[0]))\n",
    "for i, w in enumerate(MedianAge_input):\n",
    "    mu_pred[i] = posterior['alpha'] + posterior['beta'] * w   "
   ]
  },
  {
   "cell_type": "code",
   "execution_count": 38,
   "metadata": {},
   "outputs": [
    {
     "data": {
      "text/plain": [
       "<matplotlib.axes._subplots.AxesSubplot at 0x130c5f700>"
      ]
     },
     "execution_count": 38,
     "metadata": {},
     "output_type": "execute_result"
    },
    {
     "data": {
      "image/png": "[encoded data removed]",
      "text/plain": [
       "<Figure size 432x288 with 1 Axes>"
      ]
     },
     "metadata": {
      "needs_background": "light"
     },
     "output_type": "display_data"
    }
   ],
   "source": [
    "plt.scatter(df_divorce.MedianAgeMarriage_stand, df_divorce.Divorce)\n",
    "plt.plot(MedianAge_input, summary.loc['alpha', 'mean'] \\\n",
    "         + summary.loc['beta', 'mean'] * MedianAge_input, color='red')\n",
    "az.plot_hpd(MedianAge_input, mu_pred.T)  #notice that the 2D array mu_pred should be transposed first. "
   ]
  },
  {
   "cell_type": "markdown",
   "metadata": {},
   "source": [
    "#### 5.1.1 Multivariate notation"
   ]
  },
  {
   "cell_type": "markdown",
   "metadata": {},
   "source": [
    "##### code 5.4"
   ]
  },
  {
   "cell_type": "code",
   "execution_count": 43,
   "metadata": {},
   "outputs": [
    {
     "name": "stderr",
     "output_type": "stream",
     "text": [
      "Auto-assigning NUTS sampler...\n",
      "Initializing NUTS using jitter+adapt_diag...\n",
      "Multiprocess sampling (4 chains in 4 jobs)\n",
      "NUTS: [sigma, beta_A, beta_R, alpha]\n",
      "Sampling 4 chains, 0 divergences: 100%|██████████| 10000/10000 [00:05<00:00, 1962.78draws/s]\n"
     ]
    }
   ],
   "source": [
    "with pm.Model() as model_5_4:\n",
    "    \n",
    "    # prior\n",
    "    alpha = pm.Normal('alpha', mu=10, sigma=10)\n",
    "    beta_R = pm.Normal('beta_R', mu=0, sigma=1)\n",
    "    beta_A = pm.Normal('beta_A', mu=0, sigma=1)\n",
    "    sigma = pm.Uniform('sigma', lower=0, upper=10)\n",
    "    \n",
    "    mu = alpha + beta_R * df_divorce.Marriage_stand + beta_A * df_divorce.MedianAgeMarriage_stand\n",
    "    \n",
    "    #likelihood\n",
    "    likelihood = pm.Normal('divorce', mu=mu, sigma=sigma, observed=df_divorce.Divorce)\n",
    "    \n",
    "    #inference\n",
    "    trace = pm.sample(2000)"
   ]
  },
  {
   "cell_type": "code",
   "execution_count": 46,
   "metadata": {},
   "outputs": [
    {
     "data": {
      "text/html": [
       "<div>\n",
       "<style scoped>\n",
       "    .dataframe tbody tr th:only-of-type {\n",
       "        vertical-align: middle;\n",
       "    }\n",
       "\n",
       "    .dataframe tbody tr th {\n",
       "        vertical-align: top;\n",
       "    }\n",
       "\n",
       "    .dataframe thead th {\n",
       "        text-align: right;\n",
       "    }\n",
       "</style>\n",
       "<table border=\"1\" class=\"dataframe\">\n",
       "  <thead>\n",
       "    <tr style=\"text-align: right;\">\n",
       "      <th></th>\n",
       "      <th>mean</th>\n",
       "      <th>sd</th>\n",
       "      <th>hpd_5.5%</th>\n",
       "      <th>hpd_94.5%</th>\n",
       "      <th>mcse_mean</th>\n",
       "      <th>mcse_sd</th>\n",
       "      <th>ess_mean</th>\n",
       "      <th>ess_sd</th>\n",
       "      <th>ess_bulk</th>\n",
       "      <th>ess_tail</th>\n",
       "      <th>r_hat</th>\n",
       "    </tr>\n",
       "  </thead>\n",
       "  <tbody>\n",
       "    <tr>\n",
       "      <th>alpha</th>\n",
       "      <td>9.694</td>\n",
       "      <td>0.215</td>\n",
       "      <td>9.342</td>\n",
       "      <td>10.023</td>\n",
       "      <td>0.003</td>\n",
       "      <td>0.002</td>\n",
       "      <td>6821.0</td>\n",
       "      <td>6804.0</td>\n",
       "      <td>6822.0</td>\n",
       "      <td>5323.0</td>\n",
       "      <td>1.0</td>\n",
       "    </tr>\n",
       "    <tr>\n",
       "      <th>beta_R</th>\n",
       "      <td>-0.122</td>\n",
       "      <td>0.293</td>\n",
       "      <td>-0.582</td>\n",
       "      <td>0.350</td>\n",
       "      <td>0.004</td>\n",
       "      <td>0.003</td>\n",
       "      <td>5153.0</td>\n",
       "      <td>4392.0</td>\n",
       "      <td>5156.0</td>\n",
       "      <td>5135.0</td>\n",
       "      <td>1.0</td>\n",
       "    </tr>\n",
       "    <tr>\n",
       "      <th>beta_A</th>\n",
       "      <td>-1.125</td>\n",
       "      <td>0.294</td>\n",
       "      <td>-1.563</td>\n",
       "      <td>-0.618</td>\n",
       "      <td>0.004</td>\n",
       "      <td>0.003</td>\n",
       "      <td>4296.0</td>\n",
       "      <td>4222.0</td>\n",
       "      <td>4285.0</td>\n",
       "      <td>4768.0</td>\n",
       "      <td>1.0</td>\n",
       "    </tr>\n",
       "    <tr>\n",
       "      <th>sigma</th>\n",
       "      <td>1.517</td>\n",
       "      <td>0.157</td>\n",
       "      <td>1.281</td>\n",
       "      <td>1.772</td>\n",
       "      <td>0.002</td>\n",
       "      <td>0.001</td>\n",
       "      <td>6203.0</td>\n",
       "      <td>6121.0</td>\n",
       "      <td>6247.0</td>\n",
       "      <td>5702.0</td>\n",
       "      <td>1.0</td>\n",
       "    </tr>\n",
       "  </tbody>\n",
       "</table>\n",
       "</div>"
      ],
      "text/plain": [
       "         mean     sd  hpd_5.5%  hpd_94.5%  mcse_mean  mcse_sd  ess_mean  \\\n",
       "alpha   9.694  0.215     9.342     10.023      0.003    0.002    6821.0   \n",
       "beta_R -0.122  0.293    -0.582      0.350      0.004    0.003    5153.0   \n",
       "beta_A -1.125  0.294    -1.563     -0.618      0.004    0.003    4296.0   \n",
       "sigma   1.517  0.157     1.281      1.772      0.002    0.001    6203.0   \n",
       "\n",
       "        ess_sd  ess_bulk  ess_tail  r_hat  \n",
       "alpha   6804.0    6822.0    5323.0    1.0  \n",
       "beta_R  4392.0    5156.0    5135.0    1.0  \n",
       "beta_A  4222.0    4285.0    4768.0    1.0  \n",
       "sigma   6121.0    6247.0    5702.0    1.0  "
      ]
     },
     "execution_count": 46,
     "metadata": {},
     "output_type": "execute_result"
    }
   ],
   "source": [
    "pm.summary(trace, credible_interval=0.89)"
   ]
  },
  {
   "cell_type": "code",
   "execution_count": 55,
   "metadata": {},
   "outputs": [
    {
     "data": {
      "image/png": "[encoded data removed]",
      "text/plain": [
       "<Figure size 432x532.8 with 1 Axes>"
      ]
     },
     "metadata": {
      "needs_background": "light"
     },
     "output_type": "display_data"
    }
   ],
   "source": [
    "pm.forestplot(trace, combined=True, credible_interval=0.89)\n",
    "plt.axvline(x=0, linestyle='--', c='red')\n",
    "plt.show()"
   ]
  },
  {
   "cell_type": "code",
   "execution_count": null,
   "metadata": {},
   "outputs": [],
   "source": []
  }
 ],
 "metadata": {
  "kernelspec": {
   "display_name": "Python 3",
   "language": "python",
   "name": "python3"
  },
  "language_info": {
   "codemirror_mode": {
    "name": "ipython",
    "version": 3
   },
   "file_extension": ".py",
   "mimetype": "text/x-python",
   "name": "python",
   "nbconvert_exporter": "python",
   "pygments_lexer": "ipython3",
   "version": "3.8.0"
  }
 },
 "nbformat": 4,
 "nbformat_minor": 2
}
